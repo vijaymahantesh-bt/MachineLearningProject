{
 "cells": [
  {
   "cell_type": "code",
   "execution_count": 24,
   "metadata": {},
   "outputs": [],
   "source": [
    "import os\n",
    "import urllib\n",
    "import tarfile\n",
    "from yapf.yapflib.yapf_api import FormatCode"
   ]
  },
  {
   "cell_type": "code",
   "execution_count": 25,
   "metadata": {},
   "outputs": [],
   "source": [
    "# pip install yapf"
   ]
  },
  {
   "cell_type": "markdown",
   "metadata": {},
   "source": [
    "**In this project, Download a single compressed file, housing.tgz, which contains a comma-separated values (CSV) file called housing.csv with all the data**\n",
    "\n",
    "**You could use your web browser to download the file and run tar xzf housing.tgz to decompress it and extract the CSV file, but it is preferable to create a small function to do that. Having a function that downloads the data is useful in particular if the data changes regularly: you can write a small script that uses the function to fetch the latest data (or you can set up a scheduled job to do that automatically at regular intervals). Automating the process of fetching the data is also useful if you need to install the dataset on multiple machine**"
   ]
  },
  {
   "cell_type": "code",
   "execution_count": 26,
   "metadata": {
    "scrolled": true
   },
   "outputs": [],
   "source": [
    "os.chdir(r\"D:\\Data Science\\Practise\\HousingData_TextBook\")\n",
    "\n",
    "DOWNLOAD_ROOT = \"https://github.com/ageron/handson-ml2/\"\n",
    "HOUSING_PATH = os.path.join(\"datasets\", \"housing\")\n",
    "HOUSING_URL = DOWNLOAD_ROOT + \"datasets/housing/housing.trz\"\n",
    "\n",
    "\n",
    "def fetch_housing_data(housing_url=HOUSING_URL, housing_path=HOUSING_PATH):\n",
    "    os.makedirs(housing_path, exist_ok=True)\n",
    "    tgz_path = os.path.join(housing_path, \"housing.trz\")\n",
    "    urllib.request.urlretrieve(housing_url, tgz_path)\n",
    "    housing_tgz = tarfile.open(tgz_path)\n",
    "    housing_tgz.exractall(path=housing_path)\n",
    "    housing_tgz.close()"
   ]
  },
  {
   "cell_type": "code",
   "execution_count": 27,
   "metadata": {},
   "outputs": [],
   "source": [
    "import pandas as pd\n",
    "import numpy as np"
   ]
  },
  {
   "cell_type": "code",
   "execution_count": 28,
   "metadata": {},
   "outputs": [],
   "source": [
    "house = pd.read_csv(\n",
    "    \"D:\\\\Data Science\\\\Practise\\\\HousingData_TextBook\\\\datasets\\\\housing\\\\housing.csv\"\n",
    ")"
   ]
  },
  {
   "cell_type": "code",
   "execution_count": 29,
   "metadata": {},
   "outputs": [
    {
     "data": {
      "text/html": [
       "<div>\n",
       "<style scoped>\n",
       "    .dataframe tbody tr th:only-of-type {\n",
       "        vertical-align: middle;\n",
       "    }\n",
       "\n",
       "    .dataframe tbody tr th {\n",
       "        vertical-align: top;\n",
       "    }\n",
       "\n",
       "    .dataframe thead th {\n",
       "        text-align: right;\n",
       "    }\n",
       "</style>\n",
       "<table border=\"1\" class=\"dataframe\">\n",
       "  <thead>\n",
       "    <tr style=\"text-align: right;\">\n",
       "      <th></th>\n",
       "      <th>longitude</th>\n",
       "      <th>latitude</th>\n",
       "      <th>housing_median_age</th>\n",
       "      <th>total_rooms</th>\n",
       "      <th>total_bedrooms</th>\n",
       "      <th>population</th>\n",
       "      <th>households</th>\n",
       "      <th>median_income</th>\n",
       "      <th>median_house_value</th>\n",
       "    </tr>\n",
       "  </thead>\n",
       "  <tbody>\n",
       "    <tr>\n",
       "      <th>count</th>\n",
       "      <td>15615.000000</td>\n",
       "      <td>15615.000000</td>\n",
       "      <td>15615.000000</td>\n",
       "      <td>15615.000000</td>\n",
       "      <td>15464.000000</td>\n",
       "      <td>15615.000000</td>\n",
       "      <td>15615.000000</td>\n",
       "      <td>15615.000000</td>\n",
       "      <td>15615.000000</td>\n",
       "    </tr>\n",
       "    <tr>\n",
       "      <th>mean</th>\n",
       "      <td>-118.965894</td>\n",
       "      <td>35.105251</td>\n",
       "      <td>28.640090</td>\n",
       "      <td>2663.157349</td>\n",
       "      <td>547.463981</td>\n",
       "      <td>1452.253730</td>\n",
       "      <td>506.173679</td>\n",
       "      <td>3.811276</td>\n",
       "      <td>198971.023439</td>\n",
       "    </tr>\n",
       "    <tr>\n",
       "      <th>std</th>\n",
       "      <td>1.840731</td>\n",
       "      <td>2.048048</td>\n",
       "      <td>12.425557</td>\n",
       "      <td>2294.768133</td>\n",
       "      <td>442.548460</td>\n",
       "      <td>1181.581551</td>\n",
       "      <td>398.914113</td>\n",
       "      <td>1.885333</td>\n",
       "      <td>111025.403713</td>\n",
       "    </tr>\n",
       "    <tr>\n",
       "      <th>min</th>\n",
       "      <td>-124.350000</td>\n",
       "      <td>32.540000</td>\n",
       "      <td>1.000000</td>\n",
       "      <td>2.000000</td>\n",
       "      <td>2.000000</td>\n",
       "      <td>3.000000</td>\n",
       "      <td>2.000000</td>\n",
       "      <td>0.499900</td>\n",
       "      <td>14999.000000</td>\n",
       "    </tr>\n",
       "    <tr>\n",
       "      <th>25%</th>\n",
       "      <td>-120.100000</td>\n",
       "      <td>33.850000</td>\n",
       "      <td>18.000000</td>\n",
       "      <td>1438.000000</td>\n",
       "      <td>296.000000</td>\n",
       "      <td>794.000000</td>\n",
       "      <td>279.000000</td>\n",
       "      <td>2.519200</td>\n",
       "      <td>118100.000000</td>\n",
       "    </tr>\n",
       "    <tr>\n",
       "      <th>50%</th>\n",
       "      <td>-118.270000</td>\n",
       "      <td>34.080000</td>\n",
       "      <td>29.000000</td>\n",
       "      <td>2107.000000</td>\n",
       "      <td>436.000000</td>\n",
       "      <td>1173.000000</td>\n",
       "      <td>409.000000</td>\n",
       "      <td>3.470600</td>\n",
       "      <td>171400.000000</td>\n",
       "    </tr>\n",
       "    <tr>\n",
       "      <th>75%</th>\n",
       "      <td>-117.860000</td>\n",
       "      <td>36.830000</td>\n",
       "      <td>37.000000</td>\n",
       "      <td>3133.500000</td>\n",
       "      <td>651.000000</td>\n",
       "      <td>1749.000000</td>\n",
       "      <td>605.500000</td>\n",
       "      <td>4.669800</td>\n",
       "      <td>246400.000000</td>\n",
       "    </tr>\n",
       "    <tr>\n",
       "      <th>max</th>\n",
       "      <td>-114.310000</td>\n",
       "      <td>41.950000</td>\n",
       "      <td>52.000000</td>\n",
       "      <td>39320.000000</td>\n",
       "      <td>6445.000000</td>\n",
       "      <td>35682.000000</td>\n",
       "      <td>6082.000000</td>\n",
       "      <td>15.000100</td>\n",
       "      <td>500001.000000</td>\n",
       "    </tr>\n",
       "  </tbody>\n",
       "</table>\n",
       "</div>"
      ],
      "text/plain": [
       "          longitude      latitude  housing_median_age   total_rooms  \\\n",
       "count  15615.000000  15615.000000        15615.000000  15615.000000   \n",
       "mean    -118.965894     35.105251           28.640090   2663.157349   \n",
       "std        1.840731      2.048048           12.425557   2294.768133   \n",
       "min     -124.350000     32.540000            1.000000      2.000000   \n",
       "25%     -120.100000     33.850000           18.000000   1438.000000   \n",
       "50%     -118.270000     34.080000           29.000000   2107.000000   \n",
       "75%     -117.860000     36.830000           37.000000   3133.500000   \n",
       "max     -114.310000     41.950000           52.000000  39320.000000   \n",
       "\n",
       "       total_bedrooms    population    households  median_income  \\\n",
       "count    15464.000000  15615.000000  15615.000000   15615.000000   \n",
       "mean       547.463981   1452.253730    506.173679       3.811276   \n",
       "std        442.548460   1181.581551    398.914113       1.885333   \n",
       "min          2.000000      3.000000      2.000000       0.499900   \n",
       "25%        296.000000    794.000000    279.000000       2.519200   \n",
       "50%        436.000000   1173.000000    409.000000       3.470600   \n",
       "75%        651.000000   1749.000000    605.500000       4.669800   \n",
       "max       6445.000000  35682.000000   6082.000000      15.000100   \n",
       "\n",
       "       median_house_value  \n",
       "count        15615.000000  \n",
       "mean        198971.023439  \n",
       "std         111025.403713  \n",
       "min          14999.000000  \n",
       "25%         118100.000000  \n",
       "50%         171400.000000  \n",
       "75%         246400.000000  \n",
       "max         500001.000000  "
      ]
     },
     "execution_count": 29,
     "metadata": {},
     "output_type": "execute_result"
    }
   ],
   "source": [
    "house.describe()"
   ]
  },
  {
   "cell_type": "code",
   "execution_count": 30,
   "metadata": {},
   "outputs": [
    {
     "name": "stdout",
     "output_type": "stream",
     "text": [
      "<class 'pandas.core.frame.DataFrame'>\n",
      "RangeIndex: 15615 entries, 0 to 15614\n",
      "Data columns (total 10 columns):\n",
      "longitude             15615 non-null float64\n",
      "latitude              15615 non-null float64\n",
      "housing_median_age    15615 non-null int64\n",
      "total_rooms           15615 non-null int64\n",
      "total_bedrooms        15464 non-null float64\n",
      "population            15615 non-null int64\n",
      "households            15615 non-null int64\n",
      "median_income         15615 non-null float64\n",
      "median_house_value    15615 non-null int64\n",
      "ocean_proximity       15615 non-null object\n",
      "dtypes: float64(4), int64(5), object(1)\n",
      "memory usage: 1.2+ MB\n"
     ]
    }
   ],
   "source": [
    "house.info()"
   ]
  },
  {
   "cell_type": "code",
   "execution_count": 31,
   "metadata": {},
   "outputs": [
    {
     "data": {
      "text/plain": [
       "1H OCEAN      7525\n",
       "INLAND        4946\n",
       "NEAR OCEAN    1651\n",
       "NEAR BAY      1488\n",
       "ISLAND           5\n",
       "Name: ocean_proximity, dtype: int64"
      ]
     },
     "execution_count": 31,
     "metadata": {},
     "output_type": "execute_result"
    }
   ],
   "source": [
    "house['ocean_proximity'].value_counts()"
   ]
  },
  {
   "cell_type": "code",
   "execution_count": 32,
   "metadata": {
    "scrolled": true
   },
   "outputs": [
    {
     "data": {
      "text/html": [
       "<div>\n",
       "<style scoped>\n",
       "    .dataframe tbody tr th:only-of-type {\n",
       "        vertical-align: middle;\n",
       "    }\n",
       "\n",
       "    .dataframe tbody tr th {\n",
       "        vertical-align: top;\n",
       "    }\n",
       "\n",
       "    .dataframe thead th {\n",
       "        text-align: right;\n",
       "    }\n",
       "</style>\n",
       "<table border=\"1\" class=\"dataframe\">\n",
       "  <thead>\n",
       "    <tr style=\"text-align: right;\">\n",
       "      <th></th>\n",
       "      <th>longitude</th>\n",
       "      <th>latitude</th>\n",
       "      <th>housing_median_age</th>\n",
       "      <th>total_rooms</th>\n",
       "      <th>total_bedrooms</th>\n",
       "      <th>population</th>\n",
       "      <th>households</th>\n",
       "      <th>median_income</th>\n",
       "      <th>median_house_value</th>\n",
       "      <th>ocean_proximity</th>\n",
       "    </tr>\n",
       "  </thead>\n",
       "  <tbody>\n",
       "    <tr>\n",
       "      <th>0</th>\n",
       "      <td>-122.23</td>\n",
       "      <td>37.88</td>\n",
       "      <td>41</td>\n",
       "      <td>880</td>\n",
       "      <td>129.0</td>\n",
       "      <td>322</td>\n",
       "      <td>126</td>\n",
       "      <td>8.3252</td>\n",
       "      <td>452600</td>\n",
       "      <td>NEAR BAY</td>\n",
       "    </tr>\n",
       "    <tr>\n",
       "      <th>1</th>\n",
       "      <td>-122.22</td>\n",
       "      <td>37.86</td>\n",
       "      <td>21</td>\n",
       "      <td>7099</td>\n",
       "      <td>1106.0</td>\n",
       "      <td>2401</td>\n",
       "      <td>1138</td>\n",
       "      <td>8.3014</td>\n",
       "      <td>358500</td>\n",
       "      <td>NEAR BAY</td>\n",
       "    </tr>\n",
       "    <tr>\n",
       "      <th>2</th>\n",
       "      <td>-122.24</td>\n",
       "      <td>37.85</td>\n",
       "      <td>52</td>\n",
       "      <td>1467</td>\n",
       "      <td>190.0</td>\n",
       "      <td>496</td>\n",
       "      <td>177</td>\n",
       "      <td>7.2574</td>\n",
       "      <td>352100</td>\n",
       "      <td>NEAR BAY</td>\n",
       "    </tr>\n",
       "    <tr>\n",
       "      <th>3</th>\n",
       "      <td>-122.25</td>\n",
       "      <td>37.85</td>\n",
       "      <td>52</td>\n",
       "      <td>1274</td>\n",
       "      <td>235.0</td>\n",
       "      <td>558</td>\n",
       "      <td>219</td>\n",
       "      <td>5.6431</td>\n",
       "      <td>341300</td>\n",
       "      <td>NEAR BAY</td>\n",
       "    </tr>\n",
       "    <tr>\n",
       "      <th>4</th>\n",
       "      <td>-122.25</td>\n",
       "      <td>37.85</td>\n",
       "      <td>52</td>\n",
       "      <td>1627</td>\n",
       "      <td>280.0</td>\n",
       "      <td>565</td>\n",
       "      <td>259</td>\n",
       "      <td>3.8462</td>\n",
       "      <td>342200</td>\n",
       "      <td>NEAR BAY</td>\n",
       "    </tr>\n",
       "  </tbody>\n",
       "</table>\n",
       "</div>"
      ],
      "text/plain": [
       "   longitude  latitude  housing_median_age  total_rooms  total_bedrooms  \\\n",
       "0    -122.23     37.88                  41          880           129.0   \n",
       "1    -122.22     37.86                  21         7099          1106.0   \n",
       "2    -122.24     37.85                  52         1467           190.0   \n",
       "3    -122.25     37.85                  52         1274           235.0   \n",
       "4    -122.25     37.85                  52         1627           280.0   \n",
       "\n",
       "   population  households  median_income  median_house_value ocean_proximity  \n",
       "0         322         126         8.3252              452600        NEAR BAY  \n",
       "1        2401        1138         8.3014              358500        NEAR BAY  \n",
       "2         496         177         7.2574              352100        NEAR BAY  \n",
       "3         558         219         5.6431              341300        NEAR BAY  \n",
       "4         565         259         3.8462              342200        NEAR BAY  "
      ]
     },
     "execution_count": 32,
     "metadata": {},
     "output_type": "execute_result"
    }
   ],
   "source": [
    "house.head()"
   ]
  },
  {
   "cell_type": "code",
   "execution_count": 33,
   "metadata": {},
   "outputs": [
    {
     "data": {
      "text/html": [
       "<div>\n",
       "<style scoped>\n",
       "    .dataframe tbody tr th:only-of-type {\n",
       "        vertical-align: middle;\n",
       "    }\n",
       "\n",
       "    .dataframe tbody tr th {\n",
       "        vertical-align: top;\n",
       "    }\n",
       "\n",
       "    .dataframe thead th {\n",
       "        text-align: right;\n",
       "    }\n",
       "</style>\n",
       "<table border=\"1\" class=\"dataframe\">\n",
       "  <thead>\n",
       "    <tr style=\"text-align: right;\">\n",
       "      <th></th>\n",
       "      <th>longitude</th>\n",
       "      <th>latitude</th>\n",
       "      <th>housing_median_age</th>\n",
       "      <th>total_rooms</th>\n",
       "      <th>total_bedrooms</th>\n",
       "      <th>population</th>\n",
       "      <th>households</th>\n",
       "      <th>median_income</th>\n",
       "      <th>median_house_value</th>\n",
       "      <th>ocean_proximity</th>\n",
       "    </tr>\n",
       "  </thead>\n",
       "  <tbody>\n",
       "    <tr>\n",
       "      <th>15610</th>\n",
       "      <td>-116.87</td>\n",
       "      <td>32.72</td>\n",
       "      <td>13</td>\n",
       "      <td>3268</td>\n",
       "      <td>491.0</td>\n",
       "      <td>1431</td>\n",
       "      <td>503</td>\n",
       "      <td>5.7652</td>\n",
       "      <td>259900</td>\n",
       "      <td>1H OCEAN</td>\n",
       "    </tr>\n",
       "    <tr>\n",
       "      <th>15611</th>\n",
       "      <td>-116.89</td>\n",
       "      <td>32.67</td>\n",
       "      <td>9</td>\n",
       "      <td>2652</td>\n",
       "      <td>393.0</td>\n",
       "      <td>1355</td>\n",
       "      <td>362</td>\n",
       "      <td>6.2578</td>\n",
       "      <td>293100</td>\n",
       "      <td>1H OCEAN</td>\n",
       "    </tr>\n",
       "    <tr>\n",
       "      <th>15612</th>\n",
       "      <td>-116.76</td>\n",
       "      <td>32.74</td>\n",
       "      <td>14</td>\n",
       "      <td>4085</td>\n",
       "      <td>751.0</td>\n",
       "      <td>2129</td>\n",
       "      <td>688</td>\n",
       "      <td>4.7367</td>\n",
       "      <td>214500</td>\n",
       "      <td>1H OCEAN</td>\n",
       "    </tr>\n",
       "    <tr>\n",
       "      <th>15613</th>\n",
       "      <td>-116.79</td>\n",
       "      <td>32.61</td>\n",
       "      <td>19</td>\n",
       "      <td>2652</td>\n",
       "      <td>520.0</td>\n",
       "      <td>1421</td>\n",
       "      <td>491</td>\n",
       "      <td>3.5227</td>\n",
       "      <td>206100</td>\n",
       "      <td>1H OCEAN</td>\n",
       "    </tr>\n",
       "    <tr>\n",
       "      <th>15614</th>\n",
       "      <td>-122.41</td>\n",
       "      <td>37.81</td>\n",
       "      <td>25</td>\n",
       "      <td>1178</td>\n",
       "      <td>545.0</td>\n",
       "      <td>592</td>\n",
       "      <td>441</td>\n",
       "      <td>3.6728</td>\n",
       "      <td>500001</td>\n",
       "      <td>NEAR BAY</td>\n",
       "    </tr>\n",
       "  </tbody>\n",
       "</table>\n",
       "</div>"
      ],
      "text/plain": [
       "       longitude  latitude  housing_median_age  total_rooms  total_bedrooms  \\\n",
       "15610    -116.87     32.72                  13         3268           491.0   \n",
       "15611    -116.89     32.67                   9         2652           393.0   \n",
       "15612    -116.76     32.74                  14         4085           751.0   \n",
       "15613    -116.79     32.61                  19         2652           520.0   \n",
       "15614    -122.41     37.81                  25         1178           545.0   \n",
       "\n",
       "       population  households  median_income  median_house_value  \\\n",
       "15610        1431         503         5.7652              259900   \n",
       "15611        1355         362         6.2578              293100   \n",
       "15612        2129         688         4.7367              214500   \n",
       "15613        1421         491         3.5227              206100   \n",
       "15614         592         441         3.6728              500001   \n",
       "\n",
       "      ocean_proximity  \n",
       "15610        1H OCEAN  \n",
       "15611        1H OCEAN  \n",
       "15612        1H OCEAN  \n",
       "15613        1H OCEAN  \n",
       "15614        NEAR BAY  "
      ]
     },
     "execution_count": 33,
     "metadata": {},
     "output_type": "execute_result"
    }
   ],
   "source": [
    "house.tail()"
   ]
  },
  {
   "cell_type": "code",
   "execution_count": 35,
   "metadata": {
    "scrolled": true
   },
   "outputs": [
    {
     "data": {
      "image/png": "[encoded data removed]",
      "text/plain": [
       "<Figure size 1440x1080 with 9 Axes>"
      ]
     },
     "metadata": {},
     "output_type": "display_data"
    }
   ],
   "source": [
    "%matplotlib inline\n",
    "import matplotlib.pyplot as plt\n",
    "house.hist(bins=50, figsize=(20, 15))\n",
    "plt.show()"
   ]
  },
  {
   "cell_type": "code",
   "execution_count": 36,
   "metadata": {},
   "outputs": [],
   "source": [
    "# To make notebook ouput identical\n",
    "np.random.seed(42)"
   ]
  },
  {
   "cell_type": "code",
   "execution_count": 37,
   "metadata": {},
   "outputs": [],
   "source": [
    "# Function for train test split. sklearn has inbuilt train_test_split\n",
    "\n",
    "\n",
    "def split_train_test(dataset, split_Ratio):\n",
    "    shuffled_indices = np.random.permutation(len(dataset))\n",
    "    test_set_size = int(len(dataset) * split_Ratio)\n",
    "    test_set_indices = shuffled_indices[:test_set_size]\n",
    "    train_set_indices = shuffled_indices[test_set_size:]\n",
    "    return dataset.iloc[train_set_indices], dataset.iloc[test_set_indices]"
   ]
  },
  {
   "cell_type": "code",
   "execution_count": 38,
   "metadata": {
    "scrolled": true
   },
   "outputs": [],
   "source": [
    "train_set, test_set = split_train_test(house, 0.2)"
   ]
  },
  {
   "cell_type": "code",
   "execution_count": 39,
   "metadata": {
    "scrolled": true
   },
   "outputs": [
    {
     "name": "stdout",
     "output_type": "stream",
     "text": [
      "Train Set Size is  12492  Test Set Size is  3123\n"
     ]
    }
   ],
   "source": [
    "print('Train Set Size is ', len(train_set), ' Test Set Size is ',\n",
    "      len(test_set))"
   ]
  },
  {
   "cell_type": "code",
   "execution_count": 40,
   "metadata": {},
   "outputs": [
    {
     "data": {
      "text/html": [
       "<div>\n",
       "<style scoped>\n",
       "    .dataframe tbody tr th:only-of-type {\n",
       "        vertical-align: middle;\n",
       "    }\n",
       "\n",
       "    .dataframe tbody tr th {\n",
       "        vertical-align: top;\n",
       "    }\n",
       "\n",
       "    .dataframe thead th {\n",
       "        text-align: right;\n",
       "    }\n",
       "</style>\n",
       "<table border=\"1\" class=\"dataframe\">\n",
       "  <thead>\n",
       "    <tr style=\"text-align: right;\">\n",
       "      <th></th>\n",
       "      <th>index</th>\n",
       "      <th>longitude</th>\n",
       "      <th>latitude</th>\n",
       "      <th>housing_median_age</th>\n",
       "      <th>total_rooms</th>\n",
       "      <th>total_bedrooms</th>\n",
       "      <th>population</th>\n",
       "      <th>households</th>\n",
       "      <th>median_income</th>\n",
       "      <th>median_house_value</th>\n",
       "      <th>ocean_proximity</th>\n",
       "    </tr>\n",
       "  </thead>\n",
       "  <tbody>\n",
       "    <tr>\n",
       "      <th>0</th>\n",
       "      <td>0</td>\n",
       "      <td>-122.23</td>\n",
       "      <td>37.88</td>\n",
       "      <td>41</td>\n",
       "      <td>880</td>\n",
       "      <td>129.0</td>\n",
       "      <td>322</td>\n",
       "      <td>126</td>\n",
       "      <td>8.3252</td>\n",
       "      <td>452600</td>\n",
       "      <td>NEAR BAY</td>\n",
       "    </tr>\n",
       "    <tr>\n",
       "      <th>1</th>\n",
       "      <td>1</td>\n",
       "      <td>-122.22</td>\n",
       "      <td>37.86</td>\n",
       "      <td>21</td>\n",
       "      <td>7099</td>\n",
       "      <td>1106.0</td>\n",
       "      <td>2401</td>\n",
       "      <td>1138</td>\n",
       "      <td>8.3014</td>\n",
       "      <td>358500</td>\n",
       "      <td>NEAR BAY</td>\n",
       "    </tr>\n",
       "    <tr>\n",
       "      <th>2</th>\n",
       "      <td>2</td>\n",
       "      <td>-122.24</td>\n",
       "      <td>37.85</td>\n",
       "      <td>52</td>\n",
       "      <td>1467</td>\n",
       "      <td>190.0</td>\n",
       "      <td>496</td>\n",
       "      <td>177</td>\n",
       "      <td>7.2574</td>\n",
       "      <td>352100</td>\n",
       "      <td>NEAR BAY</td>\n",
       "    </tr>\n",
       "    <tr>\n",
       "      <th>3</th>\n",
       "      <td>3</td>\n",
       "      <td>-122.25</td>\n",
       "      <td>37.85</td>\n",
       "      <td>52</td>\n",
       "      <td>1274</td>\n",
       "      <td>235.0</td>\n",
       "      <td>558</td>\n",
       "      <td>219</td>\n",
       "      <td>5.6431</td>\n",
       "      <td>341300</td>\n",
       "      <td>NEAR BAY</td>\n",
       "    </tr>\n",
       "    <tr>\n",
       "      <th>4</th>\n",
       "      <td>4</td>\n",
       "      <td>-122.25</td>\n",
       "      <td>37.85</td>\n",
       "      <td>52</td>\n",
       "      <td>1627</td>\n",
       "      <td>280.0</td>\n",
       "      <td>565</td>\n",
       "      <td>259</td>\n",
       "      <td>3.8462</td>\n",
       "      <td>342200</td>\n",
       "      <td>NEAR BAY</td>\n",
       "    </tr>\n",
       "  </tbody>\n",
       "</table>\n",
       "</div>"
      ],
      "text/plain": [
       "   index  longitude  latitude  housing_median_age  total_rooms  \\\n",
       "0      0    -122.23     37.88                  41          880   \n",
       "1      1    -122.22     37.86                  21         7099   \n",
       "2      2    -122.24     37.85                  52         1467   \n",
       "3      3    -122.25     37.85                  52         1274   \n",
       "4      4    -122.25     37.85                  52         1627   \n",
       "\n",
       "   total_bedrooms  population  households  median_income  median_house_value  \\\n",
       "0           129.0         322         126         8.3252              452600   \n",
       "1          1106.0        2401        1138         8.3014              358500   \n",
       "2           190.0         496         177         7.2574              352100   \n",
       "3           235.0         558         219         5.6431              341300   \n",
       "4           280.0         565         259         3.8462              342200   \n",
       "\n",
       "  ocean_proximity  \n",
       "0        NEAR BAY  \n",
       "1        NEAR BAY  \n",
       "2        NEAR BAY  \n",
       "3        NEAR BAY  \n",
       "4        NEAR BAY  "
      ]
     },
     "execution_count": 40,
     "metadata": {},
     "output_type": "execute_result"
    }
   ],
   "source": [
    "# Adding Id column to dataset\n",
    "housing_id = house.reset_index()\n",
    "housing_id.head(5)"
   ]
  },
  {
   "cell_type": "code",
   "execution_count": 41,
   "metadata": {},
   "outputs": [],
   "source": [
    "# split dataset to train and test using sklearn function\n",
    "\n",
    "from sklearn.model_selection import train_test_split\n",
    "train_set, test_set = train_test_split(house, test_size=0.2, random_state=42)"
   ]
  },
  {
   "cell_type": "code",
   "execution_count": 42,
   "metadata": {},
   "outputs": [
    {
     "data": {
      "text/plain": [
       "12492"
      ]
     },
     "execution_count": 42,
     "metadata": {},
     "output_type": "execute_result"
    }
   ],
   "source": [
    "len(train_set)"
   ]
  },
  {
   "cell_type": "markdown",
   "metadata": {},
   "source": [
    "* __In some cases some of the variables are very important from business perspective. It is important to split train and test so that train and test represents all category of categorical attributes__\n",
    "\n",
    "* __ In this data set, median Income is very important and should represent all the values in both train and test and we  need to ensure it is distributed equally. Since it is continuous variable, we first convert Convert median Income to category by using Binning and then use sampling__\n"
   ]
  },
  {
   "cell_type": "code",
   "execution_count": 43,
   "metadata": {},
   "outputs": [],
   "source": [
    "house['income_cat'] = pd.cut(house['median_income'],\n",
    "                             bins=[0., 1.5, 3.0, 4.5, 6., np.inf],\n",
    "                             labels=[1, 2, 3, 4, 5])"
   ]
  },
  {
   "cell_type": "code",
   "execution_count": 44,
   "metadata": {
    "scrolled": true
   },
   "outputs": [
    {
     "data": {
      "text/html": [
       "<div>\n",
       "<style scoped>\n",
       "    .dataframe tbody tr th:only-of-type {\n",
       "        vertical-align: middle;\n",
       "    }\n",
       "\n",
       "    .dataframe tbody tr th {\n",
       "        vertical-align: top;\n",
       "    }\n",
       "\n",
       "    .dataframe thead th {\n",
       "        text-align: right;\n",
       "    }\n",
       "</style>\n",
       "<table border=\"1\" class=\"dataframe\">\n",
       "  <thead>\n",
       "    <tr style=\"text-align: right;\">\n",
       "      <th></th>\n",
       "      <th>longitude</th>\n",
       "      <th>latitude</th>\n",
       "      <th>housing_median_age</th>\n",
       "      <th>total_rooms</th>\n",
       "      <th>total_bedrooms</th>\n",
       "      <th>population</th>\n",
       "      <th>households</th>\n",
       "      <th>median_income</th>\n",
       "      <th>median_house_value</th>\n",
       "      <th>ocean_proximity</th>\n",
       "      <th>income_cat</th>\n",
       "    </tr>\n",
       "  </thead>\n",
       "  <tbody>\n",
       "    <tr>\n",
       "      <th>0</th>\n",
       "      <td>-122.23</td>\n",
       "      <td>37.88</td>\n",
       "      <td>41</td>\n",
       "      <td>880</td>\n",
       "      <td>129.0</td>\n",
       "      <td>322</td>\n",
       "      <td>126</td>\n",
       "      <td>8.3252</td>\n",
       "      <td>452600</td>\n",
       "      <td>NEAR BAY</td>\n",
       "      <td>5</td>\n",
       "    </tr>\n",
       "    <tr>\n",
       "      <th>1</th>\n",
       "      <td>-122.22</td>\n",
       "      <td>37.86</td>\n",
       "      <td>21</td>\n",
       "      <td>7099</td>\n",
       "      <td>1106.0</td>\n",
       "      <td>2401</td>\n",
       "      <td>1138</td>\n",
       "      <td>8.3014</td>\n",
       "      <td>358500</td>\n",
       "      <td>NEAR BAY</td>\n",
       "      <td>5</td>\n",
       "    </tr>\n",
       "    <tr>\n",
       "      <th>2</th>\n",
       "      <td>-122.24</td>\n",
       "      <td>37.85</td>\n",
       "      <td>52</td>\n",
       "      <td>1467</td>\n",
       "      <td>190.0</td>\n",
       "      <td>496</td>\n",
       "      <td>177</td>\n",
       "      <td>7.2574</td>\n",
       "      <td>352100</td>\n",
       "      <td>NEAR BAY</td>\n",
       "      <td>5</td>\n",
       "    </tr>\n",
       "    <tr>\n",
       "      <th>3</th>\n",
       "      <td>-122.25</td>\n",
       "      <td>37.85</td>\n",
       "      <td>52</td>\n",
       "      <td>1274</td>\n",
       "      <td>235.0</td>\n",
       "      <td>558</td>\n",
       "      <td>219</td>\n",
       "      <td>5.6431</td>\n",
       "      <td>341300</td>\n",
       "      <td>NEAR BAY</td>\n",
       "      <td>4</td>\n",
       "    </tr>\n",
       "    <tr>\n",
       "      <th>4</th>\n",
       "      <td>-122.25</td>\n",
       "      <td>37.85</td>\n",
       "      <td>52</td>\n",
       "      <td>1627</td>\n",
       "      <td>280.0</td>\n",
       "      <td>565</td>\n",
       "      <td>259</td>\n",
       "      <td>3.8462</td>\n",
       "      <td>342200</td>\n",
       "      <td>NEAR BAY</td>\n",
       "      <td>3</td>\n",
       "    </tr>\n",
       "  </tbody>\n",
       "</table>\n",
       "</div>"
      ],
      "text/plain": [
       "   longitude  latitude  housing_median_age  total_rooms  total_bedrooms  \\\n",
       "0    -122.23     37.88                  41          880           129.0   \n",
       "1    -122.22     37.86                  21         7099          1106.0   \n",
       "2    -122.24     37.85                  52         1467           190.0   \n",
       "3    -122.25     37.85                  52         1274           235.0   \n",
       "4    -122.25     37.85                  52         1627           280.0   \n",
       "\n",
       "   population  households  median_income  median_house_value ocean_proximity  \\\n",
       "0         322         126         8.3252              452600        NEAR BAY   \n",
       "1        2401        1138         8.3014              358500        NEAR BAY   \n",
       "2         496         177         7.2574              352100        NEAR BAY   \n",
       "3         558         219         5.6431              341300        NEAR BAY   \n",
       "4         565         259         3.8462              342200        NEAR BAY   \n",
       "\n",
       "  income_cat  \n",
       "0          5  \n",
       "1          5  \n",
       "2          5  \n",
       "3          4  \n",
       "4          3  "
      ]
     },
     "execution_count": 44,
     "metadata": {},
     "output_type": "execute_result"
    }
   ],
   "source": [
    "house.head(5)"
   ]
  },
  {
   "cell_type": "code",
   "execution_count": 45,
   "metadata": {
    "scrolled": false
   },
   "outputs": [
    {
     "data": {
      "text/plain": [
       "3    5451\n",
       "2    5167\n",
       "4    2603\n",
       "5    1733\n",
       "1     661\n",
       "Name: income_cat, dtype: int64"
      ]
     },
     "execution_count": 45,
     "metadata": {},
     "output_type": "execute_result"
    }
   ],
   "source": [
    "house['income_cat'].value_counts()"
   ]
  },
  {
   "cell_type": "code",
   "execution_count": 46,
   "metadata": {
    "scrolled": true
   },
   "outputs": [
    {
     "data": {
      "text/plain": [
       "<matplotlib.axes._subplots.AxesSubplot at 0x19f06cbc2e8>"
      ]
     },
     "execution_count": 46,
     "metadata": {},
     "output_type": "execute_result"
    },
    {
     "data": {
      "image/png": "[encoded data removed]",
      "text/plain": [
       "<Figure size 432x288 with 1 Axes>"
      ]
     },
     "metadata": {},
     "output_type": "display_data"
    }
   ],
   "source": [
    "house['income_cat'].hist()"
   ]
  },
  {
   "cell_type": "markdown",
   "metadata": {},
   "source": [
    "* In some cases some of the variables are very important from business perspective. It is important to split train and test so that train and test represents all category of categorical attributes.\n",
    "We use __Stratified sampling__ to do this\n",
    "\n",
    "* sklearn has __StratifiedShuffleSplit__ to do this"
   ]
  },
  {
   "cell_type": "code",
   "execution_count": 49,
   "metadata": {},
   "outputs": [],
   "source": [
    "from sklearn.model_selection import StratifiedShuffleSplit\n",
    "\n",
    "stsplit = StratifiedShuffleSplit(n_splits=1, test_size=0.2, random_state=42)\n",
    "\n",
    "for train_index, test_index in stsplit.split(house, house['income_cat']):\n",
    "    st_train_set = house.loc[train_index]\n",
    "    st_test_set = house.loc[test_index]"
   ]
  },
  {
   "cell_type": "code",
   "execution_count": 50,
   "metadata": {
    "scrolled": true
   },
   "outputs": [
    {
     "data": {
      "text/plain": [
       "3    4361\n",
       "2    4134\n",
       "4    2082\n",
       "5    1386\n",
       "1     529\n",
       "Name: income_cat, dtype: int64"
      ]
     },
     "execution_count": 50,
     "metadata": {},
     "output_type": "execute_result"
    }
   ],
   "source": [
    "st_train_set['income_cat'].value_counts()"
   ]
  },
  {
   "cell_type": "code",
   "execution_count": 51,
   "metadata": {
    "scrolled": true
   },
   "outputs": [
    {
     "data": {
      "text/plain": [
       "3    1090\n",
       "2    1033\n",
       "4     521\n",
       "5     347\n",
       "1     132\n",
       "Name: income_cat, dtype: int64"
      ]
     },
     "execution_count": 51,
     "metadata": {},
     "output_type": "execute_result"
    }
   ],
   "source": [
    "st_test_set['income_cat'].value_counts()"
   ]
  },
  {
   "cell_type": "markdown",
   "metadata": {},
   "source": [
    "* Now we have ensured __median_income__ is equally samplted in both train and test. We can remove __income_cat__ from data set "
   ]
  },
  {
   "cell_type": "code",
   "execution_count": 52,
   "metadata": {},
   "outputs": [],
   "source": [
    "for set_ in [st_train_set, st_test_set]:\n",
    "    set_.drop(\"income_cat\", axis=1, inplace=True)"
   ]
  },
  {
   "cell_type": "code",
   "execution_count": 53,
   "metadata": {},
   "outputs": [
    {
     "data": {
      "text/html": [
       "<div>\n",
       "<style scoped>\n",
       "    .dataframe tbody tr th:only-of-type {\n",
       "        vertical-align: middle;\n",
       "    }\n",
       "\n",
       "    .dataframe tbody tr th {\n",
       "        vertical-align: top;\n",
       "    }\n",
       "\n",
       "    .dataframe thead th {\n",
       "        text-align: right;\n",
       "    }\n",
       "</style>\n",
       "<table border=\"1\" class=\"dataframe\">\n",
       "  <thead>\n",
       "    <tr style=\"text-align: right;\">\n",
       "      <th></th>\n",
       "      <th>longitude</th>\n",
       "      <th>latitude</th>\n",
       "      <th>housing_median_age</th>\n",
       "      <th>total_rooms</th>\n",
       "      <th>total_bedrooms</th>\n",
       "      <th>population</th>\n",
       "      <th>households</th>\n",
       "      <th>median_income</th>\n",
       "      <th>median_house_value</th>\n",
       "      <th>ocean_proximity</th>\n",
       "    </tr>\n",
       "  </thead>\n",
       "  <tbody>\n",
       "    <tr>\n",
       "      <th>4229</th>\n",
       "      <td>-118.29</td>\n",
       "      <td>34.11</td>\n",
       "      <td>49</td>\n",
       "      <td>2850</td>\n",
       "      <td>379.0</td>\n",
       "      <td>1113</td>\n",
       "      <td>380</td>\n",
       "      <td>12.9591</td>\n",
       "      <td>500001</td>\n",
       "      <td>1H OCEAN</td>\n",
       "    </tr>\n",
       "    <tr>\n",
       "      <th>5351</th>\n",
       "      <td>-118.40</td>\n",
       "      <td>34.04</td>\n",
       "      <td>40</td>\n",
       "      <td>2079</td>\n",
       "      <td>268.0</td>\n",
       "      <td>720</td>\n",
       "      <td>282</td>\n",
       "      <td>9.2720</td>\n",
       "      <td>500001</td>\n",
       "      <td>1H OCEAN</td>\n",
       "    </tr>\n",
       "    <tr>\n",
       "      <th>3555</th>\n",
       "      <td>-118.59</td>\n",
       "      <td>34.23</td>\n",
       "      <td>17</td>\n",
       "      <td>6592</td>\n",
       "      <td>1525.0</td>\n",
       "      <td>4459</td>\n",
       "      <td>1463</td>\n",
       "      <td>3.0347</td>\n",
       "      <td>254500</td>\n",
       "      <td>1H OCEAN</td>\n",
       "    </tr>\n",
       "    <tr>\n",
       "      <th>7704</th>\n",
       "      <td>-118.14</td>\n",
       "      <td>33.96</td>\n",
       "      <td>34</td>\n",
       "      <td>2744</td>\n",
       "      <td>541.0</td>\n",
       "      <td>1333</td>\n",
       "      <td>503</td>\n",
       "      <td>4.0536</td>\n",
       "      <td>277200</td>\n",
       "      <td>1H OCEAN</td>\n",
       "    </tr>\n",
       "    <tr>\n",
       "      <th>15184</th>\n",
       "      <td>-117.10</td>\n",
       "      <td>32.97</td>\n",
       "      <td>17</td>\n",
       "      <td>3167</td>\n",
       "      <td>861.0</td>\n",
       "      <td>2098</td>\n",
       "      <td>828</td>\n",
       "      <td>2.4459</td>\n",
       "      <td>85800</td>\n",
       "      <td>1H OCEAN</td>\n",
       "    </tr>\n",
       "  </tbody>\n",
       "</table>\n",
       "</div>"
      ],
      "text/plain": [
       "       longitude  latitude  housing_median_age  total_rooms  total_bedrooms  \\\n",
       "4229     -118.29     34.11                  49         2850           379.0   \n",
       "5351     -118.40     34.04                  40         2079           268.0   \n",
       "3555     -118.59     34.23                  17         6592          1525.0   \n",
       "7704     -118.14     33.96                  34         2744           541.0   \n",
       "15184    -117.10     32.97                  17         3167           861.0   \n",
       "\n",
       "       population  households  median_income  median_house_value  \\\n",
       "4229         1113         380        12.9591              500001   \n",
       "5351          720         282         9.2720              500001   \n",
       "3555         4459        1463         3.0347              254500   \n",
       "7704         1333         503         4.0536              277200   \n",
       "15184        2098         828         2.4459               85800   \n",
       "\n",
       "      ocean_proximity  \n",
       "4229         1H OCEAN  \n",
       "5351         1H OCEAN  \n",
       "3555         1H OCEAN  \n",
       "7704         1H OCEAN  \n",
       "15184        1H OCEAN  "
      ]
     },
     "execution_count": 53,
     "metadata": {},
     "output_type": "execute_result"
    }
   ],
   "source": [
    "st_train_set.head()"
   ]
  },
  {
   "cell_type": "markdown",
   "metadata": {},
   "source": [
    "## `Discover and Visualize the Data to Gain Insights"
   ]
  },
  {
   "cell_type": "code",
   "execution_count": 54,
   "metadata": {},
   "outputs": [],
   "source": [
    "housing = st_train_set.copy()"
   ]
  },
  {
   "cell_type": "code",
   "execution_count": 55,
   "metadata": {},
   "outputs": [
    {
     "data": {
      "text/plain": [
       "<matplotlib.axes._subplots.AxesSubplot at 0x19f0774f160>"
      ]
     },
     "execution_count": 55,
     "metadata": {},
     "output_type": "execute_result"
    },
    {
     "data": {
      "image/png": "[encoded data removed]",
      "text/plain": [
       "<Figure size 432x288 with 1 Axes>"
      ]
     },
     "metadata": {},
     "output_type": "display_data"
    }
   ],
   "source": [
    "housing.plot(kind=\"scatter\", x=\"longitude\", y=\"latitude\")"
   ]
  },
  {
   "cell_type": "markdown",
   "metadata": {},
   "source": [
    "* To visualize where high density points are available, Set alpha = 0.1"
   ]
  },
  {
   "cell_type": "code",
   "execution_count": 56,
   "metadata": {},
   "outputs": [
    {
     "data": {
      "text/plain": [
       "<matplotlib.axes._subplots.AxesSubplot at 0x19f06c48588>"
      ]
     },
     "execution_count": 56,
     "metadata": {},
     "output_type": "execute_result"
    },
    {
     "data": {
      "image/png": "[encoded data removed]",
      "text/plain": [
       "<Figure size 720x504 with 1 Axes>"
      ]
     },
     "metadata": {},
     "output_type": "display_data"
    }
   ],
   "source": [
    "housing.plot(kind=\"scatter\",\n",
    "             x=\"longitude\",\n",
    "             y=\"latitude\",\n",
    "             alpha=0.1,\n",
    "             figsize=(10, 7))"
   ]
  },
  {
   "cell_type": "markdown",
   "metadata": {},
   "source": [
    "* Now let’s look at the housing prices. The radius of each circle represents the district’s population (option s), and the color represents the price (option c). We will use a predefined color map (option cmap) called jet, which ranges from blue (low values) to red (high prices):"
   ]
  },
  {
   "cell_type": "code",
   "execution_count": 57,
   "metadata": {
    "scrolled": true
   },
   "outputs": [
    {
     "data": {
      "text/plain": [
       "<matplotlib.legend.Legend at 0x19f076f3cf8>"
      ]
     },
     "execution_count": 57,
     "metadata": {},
     "output_type": "execute_result"
    },
    {
     "data": {
      "image/png": "[encoded data removed]",
      "text/plain": [
       "<Figure size 720x504 with 2 Axes>"
      ]
     },
     "metadata": {},
     "output_type": "display_data"
    }
   ],
   "source": [
    "housing.plot(kind=\"scatter\",\n",
    "             x=\"longitude\",\n",
    "             y=\"latitude\",\n",
    "             alpha=0.4,\n",
    "             s=housing['population'] / 100,\n",
    "             label=\"Population\",\n",
    "             figsize=(10, 7),\n",
    "             c=\"median_house_value\",\n",
    "             cmap=plt.get_cmap(\"jet\"),\n",
    "             colorbar=True)\n",
    "plt.legend()"
   ]
  },
  {
   "cell_type": "markdown",
   "metadata": {},
   "source": [
    "### Correlation Matrix"
   ]
  },
  {
   "cell_type": "code",
   "execution_count": 58,
   "metadata": {},
   "outputs": [],
   "source": [
    "corr_matrix = housing.corr()"
   ]
  },
  {
   "cell_type": "code",
   "execution_count": 59,
   "metadata": {
    "scrolled": true
   },
   "outputs": [
    {
     "data": {
      "text/plain": [
       "median_house_value    1.000000\n",
       "median_income         0.695431\n",
       "total_rooms           0.137171\n",
       "longitude             0.081094\n",
       "housing_median_age    0.069333\n",
       "households            0.064357\n",
       "total_bedrooms        0.047531\n",
       "population           -0.024807\n",
       "latitude             -0.227492\n",
       "Name: median_house_value, dtype: float64"
      ]
     },
     "execution_count": 59,
     "metadata": {},
     "output_type": "execute_result"
    }
   ],
   "source": [
    "corr_matrix['median_house_value'].sort_values(ascending=False)"
   ]
  },
  {
   "cell_type": "markdown",
   "metadata": {},
   "source": [
    "## Creating new features from the existing datashet"
   ]
  },
  {
   "cell_type": "code",
   "execution_count": 60,
   "metadata": {},
   "outputs": [],
   "source": [
    "housing['rooms_per_household'] = housing['total_rooms'] / housing['households']\n",
    "housing['beedrooms_per_household'] = housing['total_bedrooms'] / housing[\n",
    "    'households']\n",
    "housing[\n",
    "    'population_per_household'] = housing['population'] / housing['households']"
   ]
  },
  {
   "cell_type": "code",
   "execution_count": 61,
   "metadata": {},
   "outputs": [
    {
     "data": {
      "text/plain": [
       "median_house_value          1.000000\n",
       "median_income               0.695431\n",
       "rooms_per_household         0.143134\n",
       "total_rooms                 0.137171\n",
       "longitude                   0.081094\n",
       "housing_median_age          0.069333\n",
       "households                  0.064357\n",
       "total_bedrooms              0.047531\n",
       "population                 -0.024807\n",
       "beedrooms_per_household    -0.037140\n",
       "population_per_household   -0.044632\n",
       "latitude                   -0.227492\n",
       "Name: median_house_value, dtype: float64"
      ]
     },
     "execution_count": 61,
     "metadata": {},
     "output_type": "execute_result"
    }
   ],
   "source": [
    "corr_matrix = housing.corr()\n",
    "corr_matrix['median_house_value'].sort_values(ascending=False)"
   ]
  },
  {
   "cell_type": "markdown",
   "metadata": {},
   "source": [
    "## Prepare data for Machine learning algorithm"
   ]
  },
  {
   "cell_type": "code",
   "execution_count": 62,
   "metadata": {},
   "outputs": [],
   "source": [
    "housing = st_train_set.drop(\"median_house_value\", axis=1)\n",
    "housing_labels = st_train_set['median_house_value']"
   ]
  },
  {
   "cell_type": "markdown",
   "metadata": {},
   "source": [
    "### Data Cleaning"
   ]
  },
  {
   "cell_type": "code",
   "execution_count": 63,
   "metadata": {},
   "outputs": [],
   "source": [
    "# Handing missing Values\n",
    "from sklearn.impute import SimpleImputer\n",
    "\n",
    "# FInd count of missing values"
   ]
  },
  {
   "cell_type": "code",
   "execution_count": 64,
   "metadata": {},
   "outputs": [
    {
     "data": {
      "text/plain": [
       "longitude               0\n",
       "latitude                0\n",
       "housing_median_age      0\n",
       "total_rooms             0\n",
       "total_bedrooms        127\n",
       "population              0\n",
       "households              0\n",
       "median_income           0\n",
       "ocean_proximity         0\n",
       "dtype: int64"
      ]
     },
     "execution_count": 64,
     "metadata": {},
     "output_type": "execute_result"
    }
   ],
   "source": [
    "housing.isna().sum()"
   ]
  },
  {
   "cell_type": "code",
   "execution_count": 65,
   "metadata": {},
   "outputs": [],
   "source": [
    "imputer = SimpleImputer(strategy=\"median\")"
   ]
  },
  {
   "cell_type": "code",
   "execution_count": 66,
   "metadata": {},
   "outputs": [
    {
     "data": {
      "text/plain": [
       "SimpleImputer(add_indicator=False, copy=True, fill_value=None,\n",
       "              missing_values=nan, strategy='median', verbose=0)"
      ]
     },
     "execution_count": 66,
     "metadata": {},
     "output_type": "execute_result"
    }
   ],
   "source": [
    "# Median works only only on Numerical attributes, So we will remove the categorical attribute to apply on numerical\n",
    "housing_num = housing.drop('ocean_proximity', axis=1)\n",
    "imputer.fit(housing_num)"
   ]
  },
  {
   "cell_type": "code",
   "execution_count": 67,
   "metadata": {},
   "outputs": [
    {
     "data": {
      "text/plain": [
       "array([-118.27   ,   34.07   ,   29.     , 2101.     ,  434.     ,\n",
       "       1171.     ,  408.     ,    3.46835])"
      ]
     },
     "execution_count": 67,
     "metadata": {},
     "output_type": "execute_result"
    }
   ],
   "source": [
    "imputer.statistics_"
   ]
  },
  {
   "cell_type": "code",
   "execution_count": 68,
   "metadata": {},
   "outputs": [
    {
     "data": {
      "text/plain": [
       "array([-118.27   ,   34.07   ,   29.     , 2101.     ,  434.     ,\n",
       "       1171.     ,  408.     ,    3.46835])"
      ]
     },
     "execution_count": 68,
     "metadata": {},
     "output_type": "execute_result"
    }
   ],
   "source": [
    "housing_num.median().values"
   ]
  },
  {
   "cell_type": "code",
   "execution_count": 69,
   "metadata": {},
   "outputs": [],
   "source": [
    "X = imputer.transform(housing_num)"
   ]
  },
  {
   "cell_type": "code",
   "execution_count": 70,
   "metadata": {},
   "outputs": [],
   "source": [
    "house_tr = pd.DataFrame(X,\n",
    "                        columns=housing_num.columns,\n",
    "                        index=housing_num.index)"
   ]
  },
  {
   "cell_type": "markdown",
   "metadata": {},
   "source": [
    "### Handling Text and Categorical attributes"
   ]
  },
  {
   "cell_type": "code",
   "execution_count": 81,
   "metadata": {},
   "outputs": [],
   "source": [
    "from sklearn.preprocessing import OrdinalEncoder\n",
    "housing_cat = housing[['ocean_proximity']]"
   ]
  },
  {
   "cell_type": "code",
   "execution_count": 82,
   "metadata": {},
   "outputs": [],
   "source": [
    "ordinal_encoder = OrdinalEncoder()"
   ]
  },
  {
   "cell_type": "code",
   "execution_count": 83,
   "metadata": {},
   "outputs": [
    {
     "data": {
      "text/html": [
       "<div>\n",
       "<style scoped>\n",
       "    .dataframe tbody tr th:only-of-type {\n",
       "        vertical-align: middle;\n",
       "    }\n",
       "\n",
       "    .dataframe tbody tr th {\n",
       "        vertical-align: top;\n",
       "    }\n",
       "\n",
       "    .dataframe thead th {\n",
       "        text-align: right;\n",
       "    }\n",
       "</style>\n",
       "<table border=\"1\" class=\"dataframe\">\n",
       "  <thead>\n",
       "    <tr style=\"text-align: right;\">\n",
       "      <th></th>\n",
       "      <th>ocean_proximity</th>\n",
       "    </tr>\n",
       "  </thead>\n",
       "  <tbody>\n",
       "    <tr>\n",
       "      <th>4229</th>\n",
       "      <td>1H OCEAN</td>\n",
       "    </tr>\n",
       "    <tr>\n",
       "      <th>5351</th>\n",
       "      <td>1H OCEAN</td>\n",
       "    </tr>\n",
       "    <tr>\n",
       "      <th>3555</th>\n",
       "      <td>1H OCEAN</td>\n",
       "    </tr>\n",
       "    <tr>\n",
       "      <th>7704</th>\n",
       "      <td>1H OCEAN</td>\n",
       "    </tr>\n",
       "    <tr>\n",
       "      <th>15184</th>\n",
       "      <td>1H OCEAN</td>\n",
       "    </tr>\n",
       "    <tr>\n",
       "      <th>12145</th>\n",
       "      <td>1H OCEAN</td>\n",
       "    </tr>\n",
       "    <tr>\n",
       "      <th>3456</th>\n",
       "      <td>1H OCEAN</td>\n",
       "    </tr>\n",
       "    <tr>\n",
       "      <th>13961</th>\n",
       "      <td>INLAND</td>\n",
       "    </tr>\n",
       "    <tr>\n",
       "      <th>6685</th>\n",
       "      <td>INLAND</td>\n",
       "    </tr>\n",
       "    <tr>\n",
       "      <th>5924</th>\n",
       "      <td>INLAND</td>\n",
       "    </tr>\n",
       "  </tbody>\n",
       "</table>\n",
       "</div>"
      ],
      "text/plain": [
       "      ocean_proximity\n",
       "4229         1H OCEAN\n",
       "5351         1H OCEAN\n",
       "3555         1H OCEAN\n",
       "7704         1H OCEAN\n",
       "15184        1H OCEAN\n",
       "12145        1H OCEAN\n",
       "3456         1H OCEAN\n",
       "13961          INLAND\n",
       "6685           INLAND\n",
       "5924           INLAND"
      ]
     },
     "execution_count": 83,
     "metadata": {},
     "output_type": "execute_result"
    }
   ],
   "source": [
    "housing_cat.head(10)"
   ]
  },
  {
   "cell_type": "code",
   "execution_count": 84,
   "metadata": {},
   "outputs": [],
   "source": [
    "housing_cat_encoded = ordinal_encoder.fit_transform(housing_cat)"
   ]
  },
  {
   "cell_type": "code",
   "execution_count": 85,
   "metadata": {},
   "outputs": [
    {
     "data": {
      "text/plain": [
       "array([[0.],\n",
       "       [0.],\n",
       "       [0.],\n",
       "       [0.],\n",
       "       [0.],\n",
       "       [0.],\n",
       "       [0.],\n",
       "       [1.],\n",
       "       [1.],\n",
       "       [1.]])"
      ]
     },
     "execution_count": 85,
     "metadata": {},
     "output_type": "execute_result"
    }
   ],
   "source": [
    "housing_cat_encoded[:10]"
   ]
  },
  {
   "cell_type": "markdown",
   "metadata": {},
   "source": [
    "* __This will encode categories to numbers, however the problem with this kind of encoding is ML alg will consider 1 and 1 as close to each other and o and 4 as distant because of the numbers assigned to the category. This is not the case in this category. So we use oneHotEncoding__"
   ]
  },
  {
   "cell_type": "code",
   "execution_count": 86,
   "metadata": {},
   "outputs": [
    {
     "data": {
      "text/plain": [
       "[array(['1H OCEAN', 'INLAND', 'ISLAND', 'NEAR BAY', 'NEAR OCEAN'],\n",
       "       dtype=object)]"
      ]
     },
     "execution_count": 86,
     "metadata": {},
     "output_type": "execute_result"
    }
   ],
   "source": [
    "ordinal_encoder.categories_"
   ]
  },
  {
   "cell_type": "code",
   "execution_count": 87,
   "metadata": {},
   "outputs": [],
   "source": [
    "from sklearn.preprocessing import OneHotEncoder\n",
    "cat_encoder = OneHotEncoder()\n",
    "housingCat_enc = cat_encoder.fit_transform(housing_cat)"
   ]
  },
  {
   "cell_type": "code",
   "execution_count": 89,
   "metadata": {},
   "outputs": [
    {
     "data": {
      "text/plain": [
       "<12492x5 sparse matrix of type '<class 'numpy.float64'>'\n",
       "\twith 12492 stored elements in Compressed Sparse Row format>"
      ]
     },
     "execution_count": 89,
     "metadata": {},
     "output_type": "execute_result"
    }
   ],
   "source": [
    "housingCat_enc"
   ]
  },
  {
   "cell_type": "code",
   "execution_count": 90,
   "metadata": {
    "scrolled": true
   },
   "outputs": [
    {
     "data": {
      "text/plain": [
       "array([[1., 0., 0., 0., 0.],\n",
       "       [1., 0., 0., 0., 0.],\n",
       "       [1., 0., 0., 0., 0.],\n",
       "       ...,\n",
       "       [0., 0., 0., 0., 1.],\n",
       "       [1., 0., 0., 0., 0.],\n",
       "       [0., 1., 0., 0., 0.]])"
      ]
     },
     "execution_count": 90,
     "metadata": {},
     "output_type": "execute_result"
    }
   ],
   "source": [
    "housingCat_enc.toarray()"
   ]
  },
  {
   "cell_type": "markdown",
   "metadata": {},
   "source": [
    "### Custom Transformers\n",
    "\n",
    "* Although Scikit-Learn provides many useful transformers, you will need to write your own for tasks such as custom cleanup operations or combining specific attributes. You will want your transformer to work seamlessly with Scikit-Learn functionalities (such as pipelines), and since Scikit-Learn relies on duck typing (not inheritance), all you need to do is create a class and implement three methods: fit() (returning self), transform(), and fit_transform().\n",
    "\n",
    "* You can get the last one for free by simply adding TransformerMixin as a base class. If you add BaseEstimator as a base class (and avoid *args and **kargs in your constructor), you will also get two extra methods (get_params() and set_params()) that will be useful for automatic hyperparameter tuning."
   ]
  },
  {
   "cell_type": "code",
   "execution_count": 102,
   "metadata": {},
   "outputs": [
    {
     "name": "stdout",
     "output_type": "stream",
     "text": [
      "3 4 5 6\n"
     ]
    }
   ],
   "source": [
    "from sklearn.base import BaseEstimator, TransformerMixin\n",
    "\n",
    "# Get Index of columns\n",
    "room_ix, beedroom_ix, population_ix, household_ix = [\n",
    "    list(housing.columns).index(col)\n",
    "    for col in (\"total_rooms\", \"total_bedrooms\", \"population\", \"households\")\n",
    "]\n",
    "\n",
    "print(room_ix, beedroom_ix, population_ix, household_ix)\n",
    "\n",
    "\n",
    "class CombinedAttributeAddr(BaseEstimator, TransformerMixin):\n",
    "    def __init__(self, add_bedrooms_per_room=True):\n",
    "        self.add_bedrooms_per_room = add_bedrooms_per_room\n",
    "\n",
    "    def fit(self, X, y=None):\n",
    "        return self\n",
    "\n",
    "    def transform(self, X, y=None):\n",
    "        room_per_house = X[:,room_ix] / X[:,household_ix]\n",
    "        population_per_house = X[:,population_ix] / X[:,household_ix]\n",
    "\n",
    "        if (self.add_bedrooms_per_room == True):\n",
    "            beedroom_per_room = X[:,beedroom_ix] / X[:,room_ix]\n",
    "            return np.c_[X, room_per_house, population_per_house,\n",
    "                         beedroom_per_room]\n",
    "        else:\n",
    "            return np.c_[X, room_per_house, population_per_house]"
   ]
  },
  {
   "cell_type": "markdown",
   "metadata": {},
   "source": [
    "* ** Alternatively we can use sklean Buildin FunctionTransformer**"
   ]
  },
  {
   "cell_type": "code",
   "execution_count": 105,
   "metadata": {},
   "outputs": [],
   "source": [
    "from sklearn.preprocessing import FunctionTransformer\n",
    "\n",
    "\n",
    "def create_new_features(X, add_bedroom=True):\n",
    "    room_per_house = X[:, room_ix] / X[:, household_ix]\n",
    "    population_per_house = X[:, population_ix] / X[:, household_ix]\n",
    "\n",
    "    if (add_bedroom == True):\n",
    "        beedroom_per_room = X[:, beedroom_ix] / X[:, room_ix]\n",
    "        return np.c_[X, room_per_house, population_per_house,\n",
    "                     beedroom_per_room]\n",
    "    else:\n",
    "        return np.c_[X, room_per_house, population_per_house]"
   ]
  },
  {
   "cell_type": "code",
   "execution_count": 106,
   "metadata": {},
   "outputs": [],
   "source": [
    "attr_addr = FunctionTransformer(create_new_features,\n",
    "                                validate=False,\n",
    "                                kw_args={\"add_bedroom\": False})\n",
    "housing_extra_attr = attr_addr.fit_transform(housing.values)"
   ]
  },
  {
   "cell_type": "code",
   "execution_count": 107,
   "metadata": {},
   "outputs": [],
   "source": [
    "housing_extra = pd.DataFrame(\n",
    "    housing_extra_attr,\n",
    "    columns=list(housing.columns) +\n",
    "    [\"rooms_per_household\", \"population_per_household\"],\n",
    "    index=housing.index)"
   ]
  },
  {
   "cell_type": "code",
   "execution_count": 108,
   "metadata": {},
   "outputs": [
    {
     "data": {
      "text/html": [
       "<div>\n",
       "<style scoped>\n",
       "    .dataframe tbody tr th:only-of-type {\n",
       "        vertical-align: middle;\n",
       "    }\n",
       "\n",
       "    .dataframe tbody tr th {\n",
       "        vertical-align: top;\n",
       "    }\n",
       "\n",
       "    .dataframe thead th {\n",
       "        text-align: right;\n",
       "    }\n",
       "</style>\n",
       "<table border=\"1\" class=\"dataframe\">\n",
       "  <thead>\n",
       "    <tr style=\"text-align: right;\">\n",
       "      <th></th>\n",
       "      <th>longitude</th>\n",
       "      <th>latitude</th>\n",
       "      <th>housing_median_age</th>\n",
       "      <th>total_rooms</th>\n",
       "      <th>total_bedrooms</th>\n",
       "      <th>population</th>\n",
       "      <th>households</th>\n",
       "      <th>median_income</th>\n",
       "      <th>ocean_proximity</th>\n",
       "      <th>rooms_per_household</th>\n",
       "      <th>population_per_household</th>\n",
       "    </tr>\n",
       "  </thead>\n",
       "  <tbody>\n",
       "    <tr>\n",
       "      <th>4229</th>\n",
       "      <td>-118.29</td>\n",
       "      <td>34.11</td>\n",
       "      <td>49</td>\n",
       "      <td>2850</td>\n",
       "      <td>379</td>\n",
       "      <td>1113</td>\n",
       "      <td>380</td>\n",
       "      <td>12.9591</td>\n",
       "      <td>1H OCEAN</td>\n",
       "      <td>7.5</td>\n",
       "      <td>2.92895</td>\n",
       "    </tr>\n",
       "    <tr>\n",
       "      <th>5351</th>\n",
       "      <td>-118.4</td>\n",
       "      <td>34.04</td>\n",
       "      <td>40</td>\n",
       "      <td>2079</td>\n",
       "      <td>268</td>\n",
       "      <td>720</td>\n",
       "      <td>282</td>\n",
       "      <td>9.272</td>\n",
       "      <td>1H OCEAN</td>\n",
       "      <td>7.37234</td>\n",
       "      <td>2.55319</td>\n",
       "    </tr>\n",
       "    <tr>\n",
       "      <th>3555</th>\n",
       "      <td>-118.59</td>\n",
       "      <td>34.23</td>\n",
       "      <td>17</td>\n",
       "      <td>6592</td>\n",
       "      <td>1525</td>\n",
       "      <td>4459</td>\n",
       "      <td>1463</td>\n",
       "      <td>3.0347</td>\n",
       "      <td>1H OCEAN</td>\n",
       "      <td>4.50581</td>\n",
       "      <td>3.04785</td>\n",
       "    </tr>\n",
       "    <tr>\n",
       "      <th>7704</th>\n",
       "      <td>-118.14</td>\n",
       "      <td>33.96</td>\n",
       "      <td>34</td>\n",
       "      <td>2744</td>\n",
       "      <td>541</td>\n",
       "      <td>1333</td>\n",
       "      <td>503</td>\n",
       "      <td>4.0536</td>\n",
       "      <td>1H OCEAN</td>\n",
       "      <td>5.45527</td>\n",
       "      <td>2.6501</td>\n",
       "    </tr>\n",
       "    <tr>\n",
       "      <th>15184</th>\n",
       "      <td>-117.1</td>\n",
       "      <td>32.97</td>\n",
       "      <td>17</td>\n",
       "      <td>3167</td>\n",
       "      <td>861</td>\n",
       "      <td>2098</td>\n",
       "      <td>828</td>\n",
       "      <td>2.4459</td>\n",
       "      <td>1H OCEAN</td>\n",
       "      <td>3.82488</td>\n",
       "      <td>2.53382</td>\n",
       "    </tr>\n",
       "  </tbody>\n",
       "</table>\n",
       "</div>"
      ],
      "text/plain": [
       "      longitude latitude housing_median_age total_rooms total_bedrooms  \\\n",
       "4229    -118.29    34.11                 49        2850            379   \n",
       "5351     -118.4    34.04                 40        2079            268   \n",
       "3555    -118.59    34.23                 17        6592           1525   \n",
       "7704    -118.14    33.96                 34        2744            541   \n",
       "15184    -117.1    32.97                 17        3167            861   \n",
       "\n",
       "      population households median_income ocean_proximity rooms_per_household  \\\n",
       "4229        1113        380       12.9591        1H OCEAN                 7.5   \n",
       "5351         720        282         9.272        1H OCEAN             7.37234   \n",
       "3555        4459       1463        3.0347        1H OCEAN             4.50581   \n",
       "7704        1333        503        4.0536        1H OCEAN             5.45527   \n",
       "15184       2098        828        2.4459        1H OCEAN             3.82488   \n",
       "\n",
       "      population_per_household  \n",
       "4229                   2.92895  \n",
       "5351                   2.55319  \n",
       "3555                   3.04785  \n",
       "7704                    2.6501  \n",
       "15184                  2.53382  "
      ]
     },
     "execution_count": 108,
     "metadata": {},
     "output_type": "execute_result"
    }
   ],
   "source": [
    "housing_extra.head(5)"
   ]
  },
  {
   "cell_type": "markdown",
   "metadata": {},
   "source": [
    "### Feature Scaling"
   ]
  },
  {
   "cell_type": "code",
   "execution_count": 119,
   "metadata": {},
   "outputs": [],
   "source": [
    "from sklearn.preprocessing import StandardScaler\n",
    "\n",
    "ss = StandardScaler()\n",
    "house_scaled = ss.fit_transform(housing_extra.drop(\"ocean_proximity\", axis=1))\n",
    "house_scaled_df = pd.DataFrame(house_scaled, columns = housecol)"
   ]
  },
  {
   "cell_type": "code",
   "execution_count": 120,
   "metadata": {},
   "outputs": [
    {
     "name": "stdout",
     "output_type": "stream",
     "text": [
      "None\n"
     ]
    },
    {
     "data": {
      "text/html": [
       "<div>\n",
       "<style scoped>\n",
       "    .dataframe tbody tr th:only-of-type {\n",
       "        vertical-align: middle;\n",
       "    }\n",
       "\n",
       "    .dataframe tbody tr th {\n",
       "        vertical-align: top;\n",
       "    }\n",
       "\n",
       "    .dataframe thead th {\n",
       "        text-align: right;\n",
       "    }\n",
       "</style>\n",
       "<table border=\"1\" class=\"dataframe\">\n",
       "  <thead>\n",
       "    <tr style=\"text-align: right;\">\n",
       "      <th></th>\n",
       "      <th>longitude</th>\n",
       "      <th>latitude</th>\n",
       "      <th>housing_median_age</th>\n",
       "      <th>total_rooms</th>\n",
       "      <th>total_bedrooms</th>\n",
       "      <th>population</th>\n",
       "      <th>households</th>\n",
       "      <th>median_income</th>\n",
       "      <th>rooms_per_household</th>\n",
       "      <th>population_per_household</th>\n",
       "    </tr>\n",
       "  </thead>\n",
       "  <tbody>\n",
       "    <tr>\n",
       "      <th>0</th>\n",
       "      <td>0.364627</td>\n",
       "      <td>-0.482637</td>\n",
       "      <td>1.638944</td>\n",
       "      <td>0.082816</td>\n",
       "      <td>-0.382457</td>\n",
       "      <td>-0.289869</td>\n",
       "      <td>-0.318297</td>\n",
       "      <td>4.845248</td>\n",
       "      <td>0.721571</td>\n",
       "      <td>-0.017362</td>\n",
       "    </tr>\n",
       "    <tr>\n",
       "      <th>1</th>\n",
       "      <td>0.304757</td>\n",
       "      <td>-0.516758</td>\n",
       "      <td>0.915472</td>\n",
       "      <td>-0.254836</td>\n",
       "      <td>-0.634308</td>\n",
       "      <td>-0.625892</td>\n",
       "      <td>-0.565820</td>\n",
       "      <td>2.891861</td>\n",
       "      <td>0.677112</td>\n",
       "      <td>-0.081739</td>\n",
       "    </tr>\n",
       "    <tr>\n",
       "      <th>2</th>\n",
       "      <td>0.201344</td>\n",
       "      <td>-0.424144</td>\n",
       "      <td>-0.933400</td>\n",
       "      <td>1.721590</td>\n",
       "      <td>2.217729</td>\n",
       "      <td>2.571030</td>\n",
       "      <td>2.417077</td>\n",
       "      <td>-0.412597</td>\n",
       "      <td>-0.321186</td>\n",
       "      <td>0.003008</td>\n",
       "    </tr>\n",
       "    <tr>\n",
       "      <th>3</th>\n",
       "      <td>0.446268</td>\n",
       "      <td>-0.555753</td>\n",
       "      <td>0.433158</td>\n",
       "      <td>0.036395</td>\n",
       "      <td>-0.014892</td>\n",
       "      <td>-0.101765</td>\n",
       "      <td>-0.007631</td>\n",
       "      <td>0.127206</td>\n",
       "      <td>0.009473</td>\n",
       "      <td>-0.065136</td>\n",
       "    </tr>\n",
       "    <tr>\n",
       "      <th>4</th>\n",
       "      <td>1.012315</td>\n",
       "      <td>-1.038320</td>\n",
       "      <td>-0.933400</td>\n",
       "      <td>0.221644</td>\n",
       "      <td>0.711164</td>\n",
       "      <td>0.552326</td>\n",
       "      <td>0.813233</td>\n",
       "      <td>-0.724537</td>\n",
       "      <td>-0.558326</td>\n",
       "      <td>-0.085058</td>\n",
       "    </tr>\n",
       "  </tbody>\n",
       "</table>\n",
       "</div>"
      ],
      "text/plain": [
       "   longitude  latitude  housing_median_age  total_rooms  total_bedrooms  \\\n",
       "0   0.364627 -0.482637            1.638944     0.082816       -0.382457   \n",
       "1   0.304757 -0.516758            0.915472    -0.254836       -0.634308   \n",
       "2   0.201344 -0.424144           -0.933400     1.721590        2.217729   \n",
       "3   0.446268 -0.555753            0.433158     0.036395       -0.014892   \n",
       "4   1.012315 -1.038320           -0.933400     0.221644        0.711164   \n",
       "\n",
       "   population  households  median_income  rooms_per_household  \\\n",
       "0   -0.289869   -0.318297       4.845248             0.721571   \n",
       "1   -0.625892   -0.565820       2.891861             0.677112   \n",
       "2    2.571030    2.417077      -0.412597            -0.321186   \n",
       "3   -0.101765   -0.007631       0.127206             0.009473   \n",
       "4    0.552326    0.813233      -0.724537            -0.558326   \n",
       "\n",
       "   population_per_household  \n",
       "0                 -0.017362  \n",
       "1                 -0.081739  \n",
       "2                  0.003008  \n",
       "3                 -0.065136  \n",
       "4                 -0.085058  "
      ]
     },
     "execution_count": 120,
     "metadata": {},
     "output_type": "execute_result"
    }
   ],
   "source": [
    "print(house_col)\n",
    "house_scaled_df.head(5)"
   ]
  },
  {
   "cell_type": "markdown",
   "metadata": {},
   "source": [
    "### Pipleline to build data preprocessing"
   ]
  },
  {
   "cell_type": "code",
   "execution_count": 124,
   "metadata": {},
   "outputs": [],
   "source": [
    "from sklearn.pipeline import Pipeline\n",
    "\n",
    "num_pipleine = Pipeline([\n",
    "    ('imputer', SimpleImputer(strategy='median')),\n",
    "    ('add_extra_param', FunctionTransformer(create_new_features, validate=False)),\n",
    "    ('scaling', StandardScaler())\n",
    "])\n",
    "\n",
    "housing_num_tr = num_pipleine.fit_transform(housing_num)"
   ]
  },
  {
   "cell_type": "code",
   "execution_count": 126,
   "metadata": {},
   "outputs": [
    {
     "name": "stdout",
     "output_type": "stream",
     "text": [
      "[[ 0.364627   -0.48263722  1.63894447 ...  0.72157085 -0.01736242\n",
      "  -1.22898756]\n",
      " [ 0.30475664 -0.51675812  0.91547249 ...  0.67711214 -0.08173881\n",
      "  -1.28912907]\n",
      " [ 0.20134421 -0.42414425 -0.93340034 ... -0.32118555  0.00300804\n",
      "   0.22289183]\n",
      " ...\n",
      " [ 0.9470023  -1.1016878  -0.77262879 ...  0.67018824  0.02102434\n",
      "  -1.28853541]\n",
      " [ 0.63132223 -0.69223702 -1.89802965 ... -0.29504085 -0.02030624\n",
      "   0.26730648]\n",
      " [-1.2192161   1.58898872 -1.17455767 ...  0.23303956  0.03684876\n",
      "  -0.59727459]]\n"
     ]
    }
   ],
   "source": [
    "print(housing_num_tr)"
   ]
  },
  {
   "cell_type": "markdown",
   "metadata": {},
   "source": [
    "** We can use ColumnTransformer to create pipeline for both Numerical and categorical attributes**"
   ]
  },
  {
   "cell_type": "code",
   "execution_count": 152,
   "metadata": {},
   "outputs": [],
   "source": [
    "from sklearn.compose import ColumnTransformer\n",
    "\n",
    "num_attr = list(housing_num)\n",
    "cat_attr = ['ocean_proximity']\n",
    "\n",
    "full_pipeline = ColumnTransformer([\n",
    "    (\"num\", num_pipleine, num_attr),\n",
    "    (\"cat\", OneHotEncoder(), cat_attr)\n",
    "])\n",
    "\n",
    "housing_final = full_pipeline.fit_transform(housing)"
   ]
  },
  {
   "cell_type": "code",
   "execution_count": 153,
   "metadata": {},
   "outputs": [
    {
     "name": "stdout",
     "output_type": "stream",
     "text": [
      "(12492, 16)\n"
     ]
    }
   ],
   "source": [
    "print(housing_final.shape)"
   ]
  },
  {
   "cell_type": "code",
   "execution_count": 154,
   "metadata": {},
   "outputs": [
    {
     "name": "stdout",
     "output_type": "stream",
     "text": [
      "[ 0.30475664 -0.51675812  0.91547249 -0.25483586 -0.63470997 -0.62589237\n",
      " -0.56581951  2.89186058  0.67711214 -0.08173881 -1.28912907  1.\n",
      "  0.          0.          0.          0.        ]\n"
     ]
    }
   ],
   "source": [
    "print(housing_final[1])"
   ]
  },
  {
   "cell_type": "code",
   "execution_count": 147,
   "metadata": {},
   "outputs": [],
   "source": [
    "housing_final_df = pd.DataFrame(housing_final)"
   ]
  },
  {
   "cell_type": "code",
   "execution_count": 138,
   "metadata": {},
   "outputs": [
    {
     "data": {
      "text/html": [
       "<div>\n",
       "<style scoped>\n",
       "    .dataframe tbody tr th:only-of-type {\n",
       "        vertical-align: middle;\n",
       "    }\n",
       "\n",
       "    .dataframe tbody tr th {\n",
       "        vertical-align: top;\n",
       "    }\n",
       "\n",
       "    .dataframe thead th {\n",
       "        text-align: right;\n",
       "    }\n",
       "</style>\n",
       "<table border=\"1\" class=\"dataframe\">\n",
       "  <thead>\n",
       "    <tr style=\"text-align: right;\">\n",
       "      <th></th>\n",
       "      <th>0</th>\n",
       "      <th>1</th>\n",
       "      <th>2</th>\n",
       "      <th>3</th>\n",
       "      <th>4</th>\n",
       "      <th>5</th>\n",
       "      <th>6</th>\n",
       "      <th>7</th>\n",
       "      <th>8</th>\n",
       "      <th>9</th>\n",
       "      <th>10</th>\n",
       "      <th>11</th>\n",
       "      <th>12</th>\n",
       "      <th>13</th>\n",
       "      <th>14</th>\n",
       "      <th>15</th>\n",
       "    </tr>\n",
       "  </thead>\n",
       "  <tbody>\n",
       "    <tr>\n",
       "      <th>0</th>\n",
       "      <td>0.364627</td>\n",
       "      <td>-0.482637</td>\n",
       "      <td>1.638944</td>\n",
       "      <td>0.082816</td>\n",
       "      <td>-0.381655</td>\n",
       "      <td>-0.289869</td>\n",
       "      <td>-0.318297</td>\n",
       "      <td>4.845248</td>\n",
       "      <td>0.721571</td>\n",
       "      <td>-0.017362</td>\n",
       "      <td>-1.228988</td>\n",
       "      <td>1.0</td>\n",
       "      <td>0.0</td>\n",
       "      <td>0.0</td>\n",
       "      <td>0.0</td>\n",
       "      <td>0.0</td>\n",
       "    </tr>\n",
       "    <tr>\n",
       "      <th>1</th>\n",
       "      <td>0.304757</td>\n",
       "      <td>-0.516758</td>\n",
       "      <td>0.915472</td>\n",
       "      <td>-0.254836</td>\n",
       "      <td>-0.634710</td>\n",
       "      <td>-0.625892</td>\n",
       "      <td>-0.565820</td>\n",
       "      <td>2.891861</td>\n",
       "      <td>0.677112</td>\n",
       "      <td>-0.081739</td>\n",
       "      <td>-1.289129</td>\n",
       "      <td>1.0</td>\n",
       "      <td>0.0</td>\n",
       "      <td>0.0</td>\n",
       "      <td>0.0</td>\n",
       "      <td>0.0</td>\n",
       "    </tr>\n",
       "    <tr>\n",
       "      <th>2</th>\n",
       "      <td>0.201344</td>\n",
       "      <td>-0.424144</td>\n",
       "      <td>-0.933400</td>\n",
       "      <td>1.721590</td>\n",
       "      <td>2.230969</td>\n",
       "      <td>2.571030</td>\n",
       "      <td>2.417077</td>\n",
       "      <td>-0.412597</td>\n",
       "      <td>-0.321186</td>\n",
       "      <td>0.003008</td>\n",
       "      <td>0.222892</td>\n",
       "      <td>1.0</td>\n",
       "      <td>0.0</td>\n",
       "      <td>0.0</td>\n",
       "      <td>0.0</td>\n",
       "      <td>0.0</td>\n",
       "    </tr>\n",
       "    <tr>\n",
       "      <th>3</th>\n",
       "      <td>0.446268</td>\n",
       "      <td>-0.555753</td>\n",
       "      <td>0.433158</td>\n",
       "      <td>0.036395</td>\n",
       "      <td>-0.012331</td>\n",
       "      <td>-0.101765</td>\n",
       "      <td>-0.007631</td>\n",
       "      <td>0.127206</td>\n",
       "      <td>0.009473</td>\n",
       "      <td>-0.065136</td>\n",
       "      <td>-0.281695</td>\n",
       "      <td>1.0</td>\n",
       "      <td>0.0</td>\n",
       "      <td>0.0</td>\n",
       "      <td>0.0</td>\n",
       "      <td>0.0</td>\n",
       "    </tr>\n",
       "    <tr>\n",
       "      <th>4</th>\n",
       "      <td>1.012315</td>\n",
       "      <td>-1.038320</td>\n",
       "      <td>-0.933400</td>\n",
       "      <td>0.221644</td>\n",
       "      <td>0.717198</td>\n",
       "      <td>0.552326</td>\n",
       "      <td>0.813233</td>\n",
       "      <td>-0.724537</td>\n",
       "      <td>-0.558326</td>\n",
       "      <td>-0.085058</td>\n",
       "      <td>0.821086</td>\n",
       "      <td>1.0</td>\n",
       "      <td>0.0</td>\n",
       "      <td>0.0</td>\n",
       "      <td>0.0</td>\n",
       "      <td>0.0</td>\n",
       "    </tr>\n",
       "  </tbody>\n",
       "</table>\n",
       "</div>"
      ],
      "text/plain": [
       "         0         1         2         3         4         5         6   \\\n",
       "0  0.364627 -0.482637  1.638944  0.082816 -0.381655 -0.289869 -0.318297   \n",
       "1  0.304757 -0.516758  0.915472 -0.254836 -0.634710 -0.625892 -0.565820   \n",
       "2  0.201344 -0.424144 -0.933400  1.721590  2.230969  2.571030  2.417077   \n",
       "3  0.446268 -0.555753  0.433158  0.036395 -0.012331 -0.101765 -0.007631   \n",
       "4  1.012315 -1.038320 -0.933400  0.221644  0.717198  0.552326  0.813233   \n",
       "\n",
       "         7         8         9         10   11   12   13   14   15  \n",
       "0  4.845248  0.721571 -0.017362 -1.228988  1.0  0.0  0.0  0.0  0.0  \n",
       "1  2.891861  0.677112 -0.081739 -1.289129  1.0  0.0  0.0  0.0  0.0  \n",
       "2 -0.412597 -0.321186  0.003008  0.222892  1.0  0.0  0.0  0.0  0.0  \n",
       "3  0.127206  0.009473 -0.065136 -0.281695  1.0  0.0  0.0  0.0  0.0  \n",
       "4 -0.724537 -0.558326 -0.085058  0.821086  1.0  0.0  0.0  0.0  0.0  "
      ]
     },
     "execution_count": 138,
     "metadata": {},
     "output_type": "execute_result"
    }
   ],
   "source": [
    "housing_final_df.head()"
   ]
  },
  {
   "cell_type": "markdown",
   "metadata": {},
   "source": [
    "## Select and Train Model"
   ]
  },
  {
   "cell_type": "markdown",
   "metadata": {},
   "source": [
    "### Training and evaluating on the training set"
   ]
  },
  {
   "cell_type": "markdown",
   "metadata": {},
   "source": [
    "#### Linear Regression"
   ]
  },
  {
   "cell_type": "code",
   "execution_count": 140,
   "metadata": {},
   "outputs": [
    {
     "data": {
      "text/plain": [
       "LinearRegression(copy_X=True, fit_intercept=True, n_jobs=None, normalize=False)"
      ]
     },
     "execution_count": 140,
     "metadata": {},
     "output_type": "execute_result"
    }
   ],
   "source": [
    "from sklearn.linear_model import LinearRegression\n",
    "\n",
    "lin_reg = LinearRegression()\n",
    "lin_reg.fit(housing_final, housing_labels)"
   ]
  },
  {
   "cell_type": "markdown",
   "metadata": {},
   "source": [
    "* Linear reegrssion is ready, Lets try on few instances"
   ]
  },
  {
   "cell_type": "code",
   "execution_count": 155,
   "metadata": {},
   "outputs": [
    {
     "name": "stdout",
     "output_type": "stream",
     "text": [
      "Predications- [591961.00150904 445230.67560184 190163.49207692 238777.88845828\n",
      " 177153.95689677]\n",
      "Actual- [500001, 500001, 254500, 277200, 85800]\n"
     ]
    }
   ],
   "source": [
    "few_data = housing.iloc[:5]\n",
    "few_label = housing_labels.iloc[:5]\n",
    "\n",
    "preprocessed_data = full_pipeline.transform(few_data)\n",
    "print(\"Predications-\", lin_reg.predict(preprocessed_data))\n",
    "\n",
    "print(\"Actual-\", list(few_label))"
   ]
  },
  {
   "cell_type": "markdown",
   "metadata": {},
   "source": [
    "* **Measuring Regression model by using RMSE**"
   ]
  },
  {
   "cell_type": "code",
   "execution_count": 157,
   "metadata": {},
   "outputs": [
    {
     "name": "stdout",
     "output_type": "stream",
     "text": [
      "RMSE- 66891.40793002324\n"
     ]
    }
   ],
   "source": [
    "from sklearn.metrics import mean_squared_error\n",
    "\n",
    "housing_predictions = lin_reg.predict(housing_final)\n",
    "lin_mse = mean_squared_error(housing_labels, housing_predictions)\n",
    "lin_rmse = np.sqrt(lin_mse)\n",
    "print(\"RMSE-\", lin_rmse)"
   ]
  },
  {
   "cell_type": "markdown",
   "metadata": {},
   "source": [
    "#### Decision Tree Regressor"
   ]
  },
  {
   "cell_type": "code",
   "execution_count": 158,
   "metadata": {},
   "outputs": [
    {
     "data": {
      "text/plain": [
       "DecisionTreeRegressor(criterion='mse', max_depth=None, max_features=None,\n",
       "                      max_leaf_nodes=None, min_impurity_decrease=0.0,\n",
       "                      min_impurity_split=None, min_samples_leaf=1,\n",
       "                      min_samples_split=2, min_weight_fraction_leaf=0.0,\n",
       "                      presort=False, random_state=None, splitter='best')"
      ]
     },
     "execution_count": 158,
     "metadata": {},
     "output_type": "execute_result"
    }
   ],
   "source": [
    "from sklearn.tree import DecisionTreeRegressor\n",
    "\n",
    "tree_reg = DecisionTreeRegressor()\n",
    "tree_reg.fit(housing_final, housing_labels)"
   ]
  },
  {
   "cell_type": "code",
   "execution_count": 159,
   "metadata": {},
   "outputs": [
    {
     "name": "stdout",
     "output_type": "stream",
     "text": [
      "RMSE of Decsion Tree is- 0.0\n"
     ]
    }
   ],
   "source": [
    "housing_pred_DT = tree_reg.predict(housing_final)\n",
    "DT_mse = mean_squared_error(housing_labels, housing_pred_DT)\n",
    "DT_rmse = np.sqrt(DT_mse)\n",
    "print(\"RMSE of Decsion Tree is-\", DT_rmse)"
   ]
  },
  {
   "cell_type": "markdown",
   "metadata": {},
   "source": [
    "* Its giving RMSE as 0, which means Decsion Treeis seriously overfitting the date. To avoind such cases we use cross_validation"
   ]
  },
  {
   "cell_type": "code",
   "execution_count": 161,
   "metadata": {},
   "outputs": [
    {
     "name": "stdout",
     "output_type": "stream",
     "text": [
      "[67040.68958866 64778.52014019 66257.36010323 65070.73825817\n",
      " 61991.30306682 66374.80139153 68733.42473833 65267.3358094\n",
      " 66537.59878388 65733.42016213]\n"
     ]
    }
   ],
   "source": [
    "from sklearn.model_selection import cross_val_score\n",
    "\n",
    "scores = cross_val_score(tree_reg, housing_final, housing_labels, scoring=\"neg_mean_squared_error\", cv=10)\n",
    "tree_rmse_scores = np.sqrt(-scores)\n",
    "print(tree_rmse_scores)"
   ]
  },
  {
   "cell_type": "code",
   "execution_count": 164,
   "metadata": {},
   "outputs": [],
   "source": [
    "def dispay_scores(scores):\n",
    "    print(\"Scores:\", scores)\n",
    "    print(\"Mean:\", scores.mean())\n",
    "    print(\"Standard deviation:\", scores.std())"
   ]
  },
  {
   "cell_type": "code",
   "execution_count": 166,
   "metadata": {},
   "outputs": [
    {
     "name": "stdout",
     "output_type": "stream",
     "text": [
      "Scores: [67040.68958866 64778.52014019 66257.36010323 65070.73825817\n",
      " 61991.30306682 66374.80139153 68733.42473833 65267.3358094\n",
      " 66537.59878388 65733.42016213]\n",
      "Mean: 65778.5192042327\n",
      "Standard deviation: 1661.110595666583\n"
     ]
    }
   ],
   "source": [
    "dispay_scores(tree_rmse_scores)"
   ]
  },
  {
   "cell_type": "markdown",
   "metadata": {},
   "source": [
    "** Apply the same cross validation on Linear Regression model**"
   ]
  },
  {
   "cell_type": "code",
   "execution_count": 167,
   "metadata": {},
   "outputs": [
    {
     "name": "stdout",
     "output_type": "stream",
     "text": [
      "Scores: [70264.04794524 63639.94560719 65841.01942183 63937.65574981\n",
      " 67314.62957347 65661.85565011 74479.80246996 66222.70576968\n",
      " 69510.66701775 65384.45887099]\n",
      "Mean: 67225.67880760286\n",
      "Standard deviation: 3154.5289497803137\n"
     ]
    }
   ],
   "source": [
    "lin_scores = cross_val_score(lin_reg, housing_final, housing_labels, scoring=\"neg_mean_squared_error\", cv=10)\n",
    "lin_rmse_score = np.sqrt(-lin_scores)\n",
    "dispay_scores(lin_rmse_score)"
   ]
  },
  {
   "cell_type": "markdown",
   "metadata": {},
   "source": [
    "### Save the model"
   ]
  },
  {
   "cell_type": "code",
   "execution_count": 168,
   "metadata": {},
   "outputs": [
    {
     "data": {
      "text/plain": [
       "['DecisionTree.pkl']"
      ]
     },
     "execution_count": 168,
     "metadata": {},
     "output_type": "execute_result"
    }
   ],
   "source": [
    "import joblib\n",
    "joblib.dump(lin_reg, \"LinearReg.pkl\")\n",
    "joblib.dump(tree_reg, \"DecisionTree.pkl\")"
   ]
  },
  {
   "cell_type": "code",
   "execution_count": 169,
   "metadata": {},
   "outputs": [],
   "source": [
    "# To load model\n",
    "lin_reg_loaded = joblib.load(\"LinearReg.pkl\")"
   ]
  },
  {
   "cell_type": "code",
   "execution_count": 171,
   "metadata": {},
   "outputs": [
    {
     "data": {
      "text/plain": [
       "array([591961.00150904, 445230.67560184, 190163.49207692, ...,\n",
       "       366499.2458435 , 188043.71537426, 128442.58591872])"
      ]
     },
     "execution_count": 171,
     "metadata": {},
     "output_type": "execute_result"
    }
   ],
   "source": [
    "# Predict from loaded Linear model\n",
    "lin_reg_loaded.predict(housing_final)"
   ]
  },
  {
   "cell_type": "markdown",
   "metadata": {},
   "source": [
    "### Apply the model on testing set"
   ]
  },
  {
   "cell_type": "code",
   "execution_count": 174,
   "metadata": {},
   "outputs": [
    {
     "name": "stdout",
     "output_type": "stream",
     "text": [
      "4388477952.10135\n",
      "RMSE- 66245.58817084614\n"
     ]
    }
   ],
   "source": [
    "x_test = st_test_set.drop('median_house_value', axis=1)\n",
    "y_test = st_test_set['median_house_value'].copy()\n",
    "\n",
    "x_test_processed = full_pipeline.transform(x_test)\n",
    "\n",
    "test_predict = lin_reg.predict(x_test_processed)\n",
    "\n",
    "final_mse = mean_squared_error(y_test, test_predict)\n",
    "print(final_mse)\n",
    "rmse = np.sqrt(final_mse)\n",
    "print(\"RMSE-\", rmse)"
   ]
  },
  {
   "cell_type": "code",
   "execution_count": null,
   "metadata": {},
   "outputs": [],
   "source": []
  }
 ],
 "metadata": {
  "kernelspec": {
   "display_name": "Python 3",
   "language": "python",
   "name": "python3"
  },
  "language_info": {
   "codemirror_mode": {
    "name": "ipython",
    "version": 3
   },
   "file_extension": ".py",
   "mimetype": "text/x-python",
   "name": "python",
   "nbconvert_exporter": "python",
   "pygments_lexer": "ipython3",
   "version": "3.6.5"
  },
  "toc": {
   "base_numbering": 1,
   "nav_menu": {},
   "number_sections": true,
   "sideBar": true,
   "skip_h1_title": false,
   "title_cell": "Table of Contents",
   "title_sidebar": "Contents",
   "toc_cell": false,
   "toc_position": {},
   "toc_section_display": true,
   "toc_window_display": false
  }
 },
 "nbformat": 4,
 "nbformat_minor": 2
}
